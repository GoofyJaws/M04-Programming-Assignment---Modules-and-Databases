{
 "cells": [
  {
   "cell_type": "code",
   "execution_count": 1,
   "id": "ce206647",
   "metadata": {},
   "outputs": [],
   "source": [
    "# Jordy Jordan\n",
    "# 11/19/2022\n",
    "# 11.1 \n",
    "#  Create a file called zoo.py. In it, define a function called hours()\n",
    "#  that prints the string 'Open 9-5 daily'\n",
    "\n",
    "\n",
    "#zoo.py (wont work on this unless zoo.py file is on the same folder)\n",
    "\n",
    "def hours ():\n",
    "    return \"Open 9-5 daily\""
   ]
  },
  {
   "cell_type": "code",
   "execution_count": 2,
   "id": "047426f7",
   "metadata": {},
   "outputs": [
    {
     "data": {
      "text/plain": [
       "'Open 9-5 daily'"
      ]
     },
     "execution_count": 2,
     "metadata": {},
     "output_type": "execute_result"
    }
   ],
   "source": [
    "#Import the zoo module and call its hours() function\n",
    "import zoo\n",
    "hours()"
   ]
  },
  {
   "cell_type": "code",
   "execution_count": 3,
   "id": "7e2929fb",
   "metadata": {},
   "outputs": [
    {
     "data": {
      "text/plain": [
       "'Open 9-5 daily'"
      ]
     },
     "execution_count": 3,
     "metadata": {},
     "output_type": "execute_result"
    }
   ],
   "source": [
    "# 11.2 \n",
    "# In the interactive interpreter, import the zoo module as menagerie and call its hours() function.\n",
    "\n",
    "import zoo as menagerie\n",
    "menagerie.hours()"
   ]
  },
  {
   "cell_type": "code",
   "execution_count": 4,
   "id": "312ed1d2",
   "metadata": {},
   "outputs": [],
   "source": [
    "# 11.3\n",
    "# \n",
    "import pandas as pd\n",
    "import sqlite3 as db"
   ]
  },
  {
   "cell_type": "code",
   "execution_count": 5,
   "id": "5b5be002",
   "metadata": {},
   "outputs": [],
   "source": [
    "conn = db.connect('sqlite.db')"
   ]
  },
  {
   "cell_type": "code",
   "execution_count": 6,
   "id": "ccf12c75",
   "metadata": {},
   "outputs": [],
   "source": [
    "cn = conn.cursor()"
   ]
  },
  {
   "cell_type": "code",
   "execution_count": 7,
   "id": "cf187fd9",
   "metadata": {},
   "outputs": [
    {
     "data": {
      "text/plain": [
       "<sqlite3.Cursor at 0x2b7c80a7030>"
      ]
     },
     "execution_count": 7,
     "metadata": {},
     "output_type": "execute_result"
    }
   ],
   "source": [
    "cn.execute(\"CREATE TABLE books (title NVARCHAR(50), author NVARCHAR(50), year INTEGER)\")"
   ]
  },
  {
   "cell_type": "code",
   "execution_count": 8,
   "id": "24c67dbf",
   "metadata": {},
   "outputs": [
    {
     "name": "stdout",
     "output_type": "stream",
     "text": [
      "[('books',)]\n"
     ]
    }
   ],
   "source": [
    "cn.execute(\"SELECT name FROM sqlite_master WHERE type='table';\")\n",
    "print(cn.fetchall())"
   ]
  },
  {
   "cell_type": "code",
   "execution_count": 9,
   "id": "0471a9e7",
   "metadata": {},
   "outputs": [
    {
     "data": {
      "text/plain": [
       "<sqlite3.Cursor at 0x2b7c80a7030>"
      ]
     },
     "execution_count": 9,
     "metadata": {},
     "output_type": "execute_result"
    }
   ],
   "source": [
    "cn.execute(\"INSERT INTO books VALUES ('The Weirdstone of Brisingamen','Alan Garner', 1960)\")\n",
    "cn.execute(\"INSERT INTO books VALUES ('Perdido Street Station', 'China Miéville', 2000)\")\n",
    "cn.execute(\"INSERT INTO books VALUES ('Thud!', 'Terry Pratchett', 2005)\")\n",
    "cn.execute(\"INSERT INTO books VALUES ('The Spellman Files', 'Lisa Lutz', 2007)\")\n",
    "cn.execute(\"INSERT INTO books VALUES ('Small Gods', 'Terry Pratchett', 1992)\")"
   ]
  },
  {
   "cell_type": "code",
   "execution_count": 10,
   "id": "3c62fa6b",
   "metadata": {},
   "outputs": [
    {
     "name": "stdout",
     "output_type": "stream",
     "text": [
      "[('The Weirdstone of Brisingamen', 'Alan Garner', 1960), ('Perdido Street Station', 'China Miéville', 2000), ('Thud!', 'Terry Pratchett', 2005), ('The Spellman Files', 'Lisa Lutz', 2007), ('Small Gods', 'Terry Pratchett', 1992)]\n"
     ]
    }
   ],
   "source": [
    "cn.execute(\"SELECT * FROM books;\")\n",
    "print(cn.fetchall())"
   ]
  },
  {
   "cell_type": "code",
   "execution_count": 11,
   "id": "a80c2e8a",
   "metadata": {},
   "outputs": [],
   "source": [
    "conn.commit()"
   ]
  },
  {
   "cell_type": "code",
   "execution_count": 12,
   "id": "7787ce8d",
   "metadata": {},
   "outputs": [],
   "source": [
    "cn.close()\n",
    "conn.close()"
   ]
  },
  {
   "cell_type": "code",
   "execution_count": 13,
   "id": "94073cab",
   "metadata": {},
   "outputs": [],
   "source": [
    "con = db.connect('sqlite.db')\n",
    "df_books = pd.read_sql_query('select * from books', con)"
   ]
  },
  {
   "cell_type": "code",
   "execution_count": 14,
   "id": "9f68f61e",
   "metadata": {},
   "outputs": [
    {
     "data": {
      "text/html": [
       "<div>\n",
       "<style scoped>\n",
       "    .dataframe tbody tr th:only-of-type {\n",
       "        vertical-align: middle;\n",
       "    }\n",
       "\n",
       "    .dataframe tbody tr th {\n",
       "        vertical-align: top;\n",
       "    }\n",
       "\n",
       "    .dataframe thead th {\n",
       "        text-align: right;\n",
       "    }\n",
       "</style>\n",
       "<table border=\"1\" class=\"dataframe\">\n",
       "  <thead>\n",
       "    <tr style=\"text-align: right;\">\n",
       "      <th></th>\n",
       "      <th>title</th>\n",
       "      <th>author</th>\n",
       "      <th>year</th>\n",
       "    </tr>\n",
       "  </thead>\n",
       "  <tbody>\n",
       "    <tr>\n",
       "      <th>0</th>\n",
       "      <td>The Weirdstone of Brisingamen</td>\n",
       "      <td>Alan Garner</td>\n",
       "      <td>1960</td>\n",
       "    </tr>\n",
       "    <tr>\n",
       "      <th>1</th>\n",
       "      <td>Perdido Street Station</td>\n",
       "      <td>China Miéville</td>\n",
       "      <td>2000</td>\n",
       "    </tr>\n",
       "    <tr>\n",
       "      <th>2</th>\n",
       "      <td>Thud!</td>\n",
       "      <td>Terry Pratchett</td>\n",
       "      <td>2005</td>\n",
       "    </tr>\n",
       "    <tr>\n",
       "      <th>3</th>\n",
       "      <td>The Spellman Files</td>\n",
       "      <td>Lisa Lutz</td>\n",
       "      <td>2007</td>\n",
       "    </tr>\n",
       "    <tr>\n",
       "      <th>4</th>\n",
       "      <td>Small Gods</td>\n",
       "      <td>Terry Pratchett</td>\n",
       "      <td>1992</td>\n",
       "    </tr>\n",
       "  </tbody>\n",
       "</table>\n",
       "</div>"
      ],
      "text/plain": [
       "                           title           author  year\n",
       "0  The Weirdstone of Brisingamen      Alan Garner  1960\n",
       "1         Perdido Street Station   China Miéville  2000\n",
       "2                          Thud!  Terry Pratchett  2005\n",
       "3             The Spellman Files        Lisa Lutz  2007\n",
       "4                     Small Gods  Terry Pratchett  1992"
      ]
     },
     "execution_count": 14,
     "metadata": {},
     "output_type": "execute_result"
    }
   ],
   "source": [
    "df_books"
   ]
  },
  {
   "cell_type": "code",
   "execution_count": 15,
   "id": "840ef092",
   "metadata": {},
   "outputs": [],
   "source": [
    "L = df_books['title'].tolist()"
   ]
  },
  {
   "cell_type": "code",
   "execution_count": 16,
   "id": "95791f96",
   "metadata": {},
   "outputs": [
    {
     "name": "stdout",
     "output_type": "stream",
     "text": [
      "Unsorted list: \n",
      " ['The Weirdstone of Brisingamen', 'Perdido Street Station', 'Thud!', 'The Spellman Files', 'Small Gods']\n"
     ]
    }
   ],
   "source": [
    "print('Unsorted list: \\n', L)"
   ]
  },
  {
   "cell_type": "code",
   "execution_count": 17,
   "id": "dfcb48f2",
   "metadata": {},
   "outputs": [],
   "source": [
    "L.sort()"
   ]
  },
  {
   "cell_type": "code",
   "execution_count": 18,
   "id": "c0442394",
   "metadata": {},
   "outputs": [
    {
     "name": "stdout",
     "output_type": "stream",
     "text": [
      "Sorted list: \n",
      " ['Perdido Street Station', 'Small Gods', 'The Spellman Files', 'The Weirdstone of Brisingamen', 'Thud!']\n"
     ]
    }
   ],
   "source": [
    "print('Sorted list: \\n', L)"
   ]
  },
  {
   "cell_type": "code",
   "execution_count": 19,
   "id": "bd8a81ce",
   "metadata": {},
   "outputs": [],
   "source": [
    "con.close()"
   ]
  }
 ],
 "metadata": {
  "kernelspec": {
   "display_name": "Python 3 (ipykernel)",
   "language": "python",
   "name": "python3"
  },
  "language_info": {
   "codemirror_mode": {
    "name": "ipython",
    "version": 3
   },
   "file_extension": ".py",
   "mimetype": "text/x-python",
   "name": "python",
   "nbconvert_exporter": "python",
   "pygments_lexer": "ipython3",
   "version": "3.9.13"
  }
 },
 "nbformat": 4,
 "nbformat_minor": 5
}
